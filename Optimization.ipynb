{
  "nbformat": 4,
  "nbformat_minor": 0,
  "metadata": {
    "colab": {
      "name": "6.832Project.ipynb",
      "provenance": [],
      "collapsed_sections": []
    },
    "kernelspec": {
      "name": "python3",
      "display_name": "Python 3"
    },
    "language_info": {
      "name": "python"
    }
  },
  "cells": [
    {
      "cell_type": "code",
      "metadata": {
        "id": "29M_SNBcTezC"
      },
      "source": [
        "import importlib\n",
        "import sys\n",
        "from urllib.request import urlretrieve\n",
        "\n",
        "# Install drake (and underactuated).\n",
        "if 'google.colab' in sys.modules and importlib.util.find_spec('underactuated') is None:\n",
        "    urlretrieve(f\"http://underactuated.csail.mit.edu/scripts/setup/setup_underactuated_colab.py\",\n",
        "                \"setup_underactuated_colab.py\")\n",
        "    from setup_underactuated_colab import setup_underactuated\n",
        "    setup_underactuated(underactuated_sha='15cfd96b0bdfd1b0c67597c24f91907776c02a6d', drake_version='0.27.0', drake_build='release')\n",
        "\n",
        "server_args = []\n",
        "if 'google.colab' in sys.modules:\n",
        "  server_args = ['--ngrok_http_tunnel']\n",
        "# Start a single meshcat server instance to use for the remainder of this notebook.\n",
        "from meshcat.servers.zmqserver import start_zmq_server_as_subprocess\n",
        "proc_planar, zmq_url_planar, web_url_planar = start_zmq_server_as_subprocess(server_args=server_args)\n",
        "proc, zmq_url, web_url = start_zmq_server_as_subprocess(server_args=server_args)\n",
        "\n",
        "import numpy as np\n",
        "from ipywidgets import FloatSlider, ToggleButton\n",
        "from IPython.display import display, SVG\n",
        "import pydot\n",
        "\n",
        "import pydrake.all\n",
        "from pydrake.all import (\n",
        "    MultibodyPlant, DiagramBuilder, LinearQuadraticRegulator, Saturation, SceneGraph, Simulator, \n",
        "    WrapToSystem, AddMultibodyPlantSceneGraph, Parser, MathematicalProgram, eq, PiecewisePolynomial,\n",
        "    SnoptSolver\n",
        ")\n",
        "from pydrake.examples.acrobot import AcrobotPlant, AcrobotGeometry\n",
        "from pydrake.systems.jupyter_widgets import WidgetSystem\n",
        "from pydrake.common.containers import namedview\n",
        "from underactuated import FindResource\n",
        "from underactuated.jupyter import running_as_notebook\n"
      ],
      "execution_count": 22,
      "outputs": []
    },
    {
      "cell_type": "markdown",
      "metadata": {
        "id": "TsD5F-yuuNsu"
      },
      "source": [
        "## Problem Description\n",
        "\n",
        "We want to write a nonlinear optimization for the ball balancing bot. In order to complete our trajectory optimization, we will use `MathematicalProgram`.\n",
        "\n",
        "**maybe write more later if we submit the notebook"
      ]
    },
    {
      "cell_type": "markdown",
      "metadata": {
        "id": "pchh5xxLucTb"
      },
      "source": [
        "## Parse the `urdf` and Get the `MultibodyPlant`\n",
        "\n",
        "We start by defining a couple of physical parameters that we will need below."
      ]
    },
    {
      "cell_type": "code",
      "metadata": {
        "id": "SojuC2b8TKDz"
      },
      "source": [
        "# friction coefficient between feet and ground\n",
        "friction = .2\n",
        "\n",
        "# position of the feet in the respective leg frame\n",
        "# (must match the urdf)\n",
        "foot_in_leg = {\n",
        "    'stance_leg': np.zeros(3),        # stance foot in stance-leg frame\n",
        "    'swing_leg': np.array([0, 0, -1]) # swing foot in swing-leg frame\n",
        "}"
      ],
      "execution_count": 66,
      "outputs": []
    },
    {
      "cell_type": "code",
      "metadata": {
        "id": "JT2OPDHHuxuN"
      },
      "source": [
        "ballbot_urdf = \"\"\"\n",
        "<?xml version=\"1.0\"?>\n",
        "\n",
        "<robot xmlns=\"http://drake.mit.edu\"\n",
        " xmlns:xsi=\"http://www.w3.org/2001/XMLSchema-instance\"\n",
        " name=\"BallBot\">\n",
        "\n",
        "  <link name=\"ground\">\n",
        "    <visual>\n",
        "      <origin xyz=\"0 0 -5\" rpy=\"0 0 0\" />\n",
        "      <geometry>\n",
        "        <box size=\"1000 1000 10\" />\n",
        "      </geometry>\n",
        "      <material>\n",
        "        <color rgba=\"0.93 .74 .4 1\" />\n",
        "      </material>\n",
        "    </visual>\n",
        "  </link>\n",
        "\n",
        "  <joint name=\"ground_weld\" type=\"fixed\">\n",
        "    <parent link=\"world\" />\n",
        "    <child link=\"ground\" />\n",
        "  </joint>\n",
        "\n",
        "  <link name=\"ball\">\n",
        "    <inertial>\n",
        "      <origin xyz=\"0 0 0\" rpy=\"0 0 0\" />\n",
        "      <mass value=\"5\" />\n",
        "      <inertia ixx=\".02\" ixy=\"0\" ixz=\"0\" iyy=\"0.02\" iyz=\"0\" izz=\"0.02\" />\n",
        "    </inertial>\n",
        "    <visual>\n",
        "      <origin xyz=\"0 0 0\" rpy=\"0 0 0\" />\n",
        "      <geometry>\n",
        "        <sphere radius=\".1\" />\n",
        "        <box size=\"0.1 0.1 0.1\"/>\n",
        "      </geometry>\n",
        "      <material>\n",
        "        <color rgba=\"0.25 0.52 0.96 1\" />\n",
        "      </material>\n",
        "    </visual>\n",
        "  </link>\n",
        "\n",
        "  <link name=\"bot\">\n",
        "    <inertial>\n",
        "      <origin xyz=\"0 0 .05\" rpy=\"0 0 0\" />\n",
        "      <mass value=\"4\" />\n",
        "      <inertia ixx=\"0.018\" ixy=\"0\" ixz=\"0\" iyy=\"0.018\" iyz=\"0\" izz=\"0.0288\" />\n",
        "    </inertial>\n",
        "    <visual>\n",
        "      <origin xyz=\"0 0 .05\" rpy=\"0 0 0\" />\n",
        "      <geometry>\n",
        "         <cylinder length=\".1\" radius=\".12\" />\n",
        "      </geometry>\n",
        "      <material>\n",
        "        <color rgba=\".61 .63 .67 1\" />\n",
        "      </material>\n",
        "    </visual>\n",
        "  </link>\n",
        "  \n",
        "  <joint name=\"x\" type=\"prismatic\">\n",
        "    <parent link=\"world\" />\n",
        "    <child link=\"ball\" />\n",
        "    <origin xyz=\"0 0 .1\" />\n",
        "    <axis xyz=\"1 0 0\" />\n",
        "    <dynamics damping=\"0.1\" />\n",
        "  </joint>\n",
        "\n",
        "  <joint name=\"theta\" type=\"continuous\">\n",
        "    <parent link=\"ball\" />\n",
        "    <child link=\"bot\" />\n",
        "    <origin xyz=\"0 0 0\" />\n",
        "    <axis xyz=\"0 1 0\" />\n",
        "    <dynamics damping=\"0.1\" />\n",
        "  </joint>\n",
        "\n",
        "  <transmission type=\"SimpleTransmission\" name=\"ball_torque\">\n",
        "    <actuator name=\"torque\" />\n",
        "    <joint name=\"theta\" />\n",
        "    <mechanicalReduction>1</mechanicalReduction>\n",
        "  </transmission>\n",
        "\n",
        "  <transmission type=\"SimpleTransmission\" name=\"ball_force\">\n",
        "    <actuator name=\"force\" />\n",
        "    <joint name=\"x\" />\n",
        "    <mechanicalReduction>.1</mechanicalReduction>\n",
        "  </transmission>\n",
        "</robot>\n",
        "\"\"\""
      ],
      "execution_count": 67,
      "outputs": []
    },
    {
      "cell_type": "code",
      "metadata": {
        "id": "47iJ8VWAux5c"
      },
      "source": [
        "# parse urdf and create the MultibodyPlant\n",
        "ballbot_2D = MultibodyPlant(time_step=0)\n",
        "Parser(ballbot_2D).AddModelFromString(ballbot_urdf, \"urdf\")\n",
        "ballbot_2D.Finalize()\n",
        "\n",
        "# overwrite MultibodyPlant with its autodiff copy\n",
        "ballbot_2D = ballbot_2D.ToAutoDiffXd() \n",
        "\n",
        "# number of configuration variables\n",
        "nq = ballbot_2D.num_positions()  # Returns the size of the multibody system state vector x = [q v]. This will be num_positions() plus num_velocities()\n",
        "\n",
        "# number of components of the contact forces\n",
        "nf = 2"
      ],
      "execution_count": 68,
      "outputs": []
    },
    {
      "cell_type": "code",
      "metadata": {
        "id": "SqV18W2zvl1U",
        "colab": {
          "base_uri": "https://localhost:8080/"
        },
        "outputId": "3bbb0bb3-170d-404e-b085-3a99382b8762"
      },
      "source": [
        "print(nq)"
      ],
      "execution_count": 69,
      "outputs": [
        {
          "output_type": "stream",
          "text": [
            "2\n"
          ],
          "name": "stdout"
        }
      ]
    },
    {
      "cell_type": "markdown",
      "metadata": {
        "id": "5DGCjuJSb_kd"
      },
      "source": [
        "## Helper Functions"
      ]
    },
    {
      "cell_type": "code",
      "metadata": {
        "id": "nGymxF6Y1v4-"
      },
      "source": [
        "def ballbot2D_dynamics(vars):\n",
        "    q, qd = np.split(vars, [nq])\n",
        "    context = ballbot_2D.CreateDefaultContext()\n",
        "    ballbot_2D.SetPositions(context, q)\n",
        "    ballbot_2D.SetVelocities(context, qd)\n",
        "    \n",
        "    # store time derivatives\n",
        "    time_derivs = ballbot_2D.AllocateTimeDerivatives()\n",
        "    ballbot_2D.CalcTimeDerivatives(context, time_derivs)\n",
        "    \n",
        "    return"
      ],
      "execution_count": 81,
      "outputs": []
    },
    {
      "cell_type": "markdown",
      "metadata": {
        "id": "-0wAQf0pcT4q"
      },
      "source": [
        "## The Trajectory Optimization Problem\n",
        "\n",
        "We start by setting some parameters of our optimization problem."
      ]
    },
    {
      "cell_type": "code",
      "metadata": {
        "id": "Kilwm5gL1wks"
      },
      "source": [
        "# time steps in the trajectory optimization\n",
        "T = 50\n",
        "\n",
        "# minimum and maximum time interval is seconds\n",
        "h_min = .005\n",
        "h_max = .05\n",
        "\n",
        "# goal position\n",
        "goal = 0"
      ],
      "execution_count": 82,
      "outputs": []
    },
    {
      "cell_type": "code",
      "metadata": {
        "id": "F1GjvgR41zta"
      },
      "source": [
        "# initialize program\n",
        "prog = MathematicalProgram()\n",
        "\n",
        "# vector of the time intervals\n",
        "# (distances between the T + 1 break points)\n",
        "h = prog.NewContinuousVariables(T, name='h')\n",
        "\n",
        "# system configuration, generalized velocities, and accelerations\n",
        "q = prog.NewContinuousVariables(rows=T+1, cols=nq, name='q')\n",
        "qd = prog.NewContinuousVariables(rows=T+1, cols=nq, name='qd')\n",
        "qdd = prog.NewContinuousVariables(rows=T, cols=nq, name='qdd')"
      ],
      "execution_count": 83,
      "outputs": []
    },
    {
      "cell_type": "markdown",
      "metadata": {
        "id": "UbWqVvKScivO"
      },
      "source": [
        "Here are part of the constraints of the optimization problem:\n",
        "\n",
        "\n",
        "1.   Time steps need to be bounded between h_min and h_max\n",
        "2.   Map configurations, velocities, accelerations to each other using the Euler method\n",
        "3.   Something about dynamics\n",
        "4.   Want the thing on top to be horizonal at the end (theta1 = 0, theta2 = 0)\n",
        "5.   Can add an angle bound (like it can't be more than 15 deg away from horizontal)\n",
        "\n"
      ]
    },
    {
      "cell_type": "code",
      "metadata": {
        "id": "Jd0ZP1XA167B",
        "outputId": "f2befb46-a923-40f6-9477-1c49150be036",
        "colab": {
          "base_uri": "https://localhost:8080/"
        }
      },
      "source": [
        "# 1. lower and upper bound on the time steps for all t\n",
        "prog.AddBoundingBoxConstraint([h_min] * T, [h_max] * T, h)\n",
        "\n",
        "# 2. link the configurations, velocities, and accelerations\n",
        "# uses implicit Euler method, https://en.wikipedia.org/wiki/Backward_Euler_method\n",
        "for t in range(T):\n",
        "    prog.AddConstraint(eq(q[t+1], q[t] + h[t] * qd[t+1]))\n",
        "    prog.AddConstraint(eq(qd[t+1], qd[t] + h[t] * qdd[t]))\n",
        "\n",
        "# 3. drake dynamics\n",
        "prog.AddConstraint(ballbot2D_dynamics, lb=[-10]*nq, ub=[10]*nq, vars=np.concatenate((q[1], qd[1])))\n",
        "# vars = np.concatenate((q[-1], qd[-1], qd_post, imp))\n",
        "# prog.AddConstraint(reset_velocity_heelstrike, lb=[0]*(nq+nf), ub=[0]*(nq+nf), vars=vars)    \n",
        "\n",
        "# 4. horizontal at end\n",
        "# q = [x, theta1]\n",
        "prog.AddLinearConstraint(q[-1][1] == 0)\n",
        "\n",
        "# at the origin at the end\n",
        "prog.AddLinearConstraint(q[-1][0] == goal)"
      ],
      "execution_count": 84,
      "outputs": [
        {
          "output_type": "execute_result",
          "data": {
            "text/plain": [
              "<pydrake.solvers.mathematicalprogram.Binding_LinearConstraint at 0x7f0a2aaef070>"
            ]
          },
          "metadata": {
            "tags": []
          },
          "execution_count": 84
        }
      ]
    },
    {
      "cell_type": "markdown",
      "metadata": {
        "id": "KgXWQbl9crYj"
      },
      "source": [
        "Here we set the initial guess for our optimization problem.\n",
        "\n",
        "For the time steps `h` we just initialize them to their maximal value `h_max` (somewhat an arbitrary decision, but it works).\n",
        "\n",
        "For the robot configuration `q`, we interpolate between the initial value `q0_guess` and the final value `- q0_guess`.\n",
        "In our implementation, the value given below for `q0_guess` made the optimization converge.\n",
        "But, if you find the need, feel free to tweak this parameter.\n",
        "The initial guess for the velocity and the acceleration is obtained by differentiating the one for the position.\n",
        "\n",
        "The normal force `f` at the stance foot is equal to the total `weight` of the robot.\n",
        "\n",
        "All the other optimization variables are initialized at zero.\n",
        "(Note that, if the initial guess for a variable is not specified, the default value is zero.)"
      ]
    },
    {
      "cell_type": "code",
      "metadata": {
        "id": "kM1ybOZX19-2"
      },
      "source": [
        "# vector of the initial guess\n",
        "initial_guess = np.empty(prog.num_vars())\n",
        "\n",
        "# initial guess for the time step\n",
        "h_guess = h_max\n",
        "prog.SetDecisionVariableValueInVector(h, [h_guess] * T, initial_guess)\n",
        "\n",
        "# linear interpolation of the configuration\n",
        "q0_guess = np.array([0, .15])\n",
        "q_guess_poly = PiecewisePolynomial.FirstOrderHold(\n",
        "    [0, T * h_guess],\n",
        "    np.column_stack((q0_guess, - q0_guess))\n",
        ")\n",
        "qd_guess_poly = q_guess_poly.derivative()\n",
        "qdd_guess_poly = q_guess_poly.derivative()\n",
        "\n",
        "# set initial guess for configuration, velocity, and acceleration\n",
        "q_guess = np.hstack([q_guess_poly.value(t * h_guess) for t in range(T + 1)]).T\n",
        "qd_guess = np.hstack([qd_guess_poly.value(t * h_guess) for t in range(T + 1)]).T\n",
        "qdd_guess = np.hstack([qdd_guess_poly.value(t * h_guess) for t in range(T)]).T\n",
        "prog.SetDecisionVariableValueInVector(q, q_guess, initial_guess)\n",
        "prog.SetDecisionVariableValueInVector(qd, qd_guess, initial_guess)\n",
        "prog.SetDecisionVariableValueInVector(qdd, qdd_guess, initial_guess)"
      ],
      "execution_count": 85,
      "outputs": []
    },
    {
      "cell_type": "markdown",
      "metadata": {
        "id": "tE7Ruz9ZcuzK"
      },
      "source": [
        "We can finally solve the problem! Be sure that the solver actually converged: you can check this by looking at the variable result.is_success() (printed below)."
      ]
    },
    {
      "cell_type": "code",
      "metadata": {
        "id": "ECAtqSL_2Dtt",
        "outputId": "7a68d847-2e89-4932-a200-e2463a57a5a2",
        "colab": {
          "base_uri": "https://localhost:8080/",
          "height": 381
        }
      },
      "source": [
        "# solve mathematical program with initial guess\n",
        "solver = SnoptSolver()\n",
        "result = solver.Solve(prog, initial_guess)\n",
        "\n",
        "# ensure solution is found\n",
        "print(f'Solution found? {result.is_success()}.')"
      ],
      "execution_count": 86,
      "outputs": [
        {
          "output_type": "error",
          "ename": "RuntimeError",
          "evalue": "ignored",
          "traceback": [
            "\u001b[0;31m---------------------------------------------------------------------------\u001b[0m",
            "\u001b[0;31mRuntimeError\u001b[0m                              Traceback (most recent call last)",
            "\u001b[0;32m<ipython-input-86-5cf4d7a05da1>\u001b[0m in \u001b[0;36m<module>\u001b[0;34m()\u001b[0m\n\u001b[1;32m      1\u001b[0m \u001b[0;31m# solve mathematical program with initial guess\u001b[0m\u001b[0;34m\u001b[0m\u001b[0;34m\u001b[0m\u001b[0;34m\u001b[0m\u001b[0m\n\u001b[1;32m      2\u001b[0m \u001b[0msolver\u001b[0m \u001b[0;34m=\u001b[0m \u001b[0mSnoptSolver\u001b[0m\u001b[0;34m(\u001b[0m\u001b[0;34m)\u001b[0m\u001b[0;34m\u001b[0m\u001b[0;34m\u001b[0m\u001b[0m\n\u001b[0;32m----> 3\u001b[0;31m \u001b[0mresult\u001b[0m \u001b[0;34m=\u001b[0m \u001b[0msolver\u001b[0m\u001b[0;34m.\u001b[0m\u001b[0mSolve\u001b[0m\u001b[0;34m(\u001b[0m\u001b[0mprog\u001b[0m\u001b[0;34m,\u001b[0m \u001b[0minitial_guess\u001b[0m\u001b[0;34m)\u001b[0m\u001b[0;34m\u001b[0m\u001b[0;34m\u001b[0m\u001b[0m\n\u001b[0m\u001b[1;32m      4\u001b[0m \u001b[0;34m\u001b[0m\u001b[0m\n\u001b[1;32m      5\u001b[0m \u001b[0;31m# ensure solution is found\u001b[0m\u001b[0;34m\u001b[0m\u001b[0;34m\u001b[0m\u001b[0;34m\u001b[0m\u001b[0m\n",
            "\u001b[0;32m<ipython-input-81-627c86a08dfc>\u001b[0m in \u001b[0;36mballbot2D_dynamics\u001b[0;34m(vars)\u001b[0m\n\u001b[1;32m      7\u001b[0m     \u001b[0;31m# store time derivatives\u001b[0m\u001b[0;34m\u001b[0m\u001b[0;34m\u001b[0m\u001b[0;34m\u001b[0m\u001b[0m\n\u001b[1;32m      8\u001b[0m     \u001b[0mtime_derivs\u001b[0m \u001b[0;34m=\u001b[0m \u001b[0mballbot_2D\u001b[0m\u001b[0;34m.\u001b[0m\u001b[0mAllocateTimeDerivatives\u001b[0m\u001b[0;34m(\u001b[0m\u001b[0;34m)\u001b[0m\u001b[0;34m\u001b[0m\u001b[0;34m\u001b[0m\u001b[0m\n\u001b[0;32m----> 9\u001b[0;31m     \u001b[0mballbot_2D\u001b[0m\u001b[0;34m.\u001b[0m\u001b[0mCalcTimeDerivatives\u001b[0m\u001b[0;34m(\u001b[0m\u001b[0mcontext\u001b[0m\u001b[0;34m,\u001b[0m \u001b[0mtime_derivs\u001b[0m\u001b[0;34m)\u001b[0m\u001b[0;34m\u001b[0m\u001b[0;34m\u001b[0m\u001b[0m\n\u001b[0m\u001b[1;32m     10\u001b[0m \u001b[0;34m\u001b[0m\u001b[0m\n\u001b[1;32m     11\u001b[0m     \u001b[0;32mreturn\u001b[0m\u001b[0;34m\u001b[0m\u001b[0;34m\u001b[0m\u001b[0m\n",
            "\u001b[0;31mRuntimeError\u001b[0m: Actuation input port for model instance BallBot must be connected."
          ]
        }
      ]
    },
    {
      "cell_type": "markdown",
      "metadata": {
        "id": "QfQ5FinDc1fm"
      },
      "source": [
        "In the following cell we retrieve the optimal value of the decision variables."
      ]
    },
    {
      "cell_type": "code",
      "metadata": {
        "id": "JbzFKYhjc2CA"
      },
      "source": [
        "# get optimal solution\n",
        "h_opt = result.GetSolution(h)\n",
        "q_opt = result.GetSolution(q)\n",
        "qd_opt = result.GetSolution(qd)\n",
        "qdd_opt = result.GetSolution(qdd)\n",
        "\n",
        "# stack states\n",
        "x_opt = np.hstack((q_opt, qd_opt))"
      ],
      "execution_count": null,
      "outputs": []
    },
    {
      "cell_type": "markdown",
      "metadata": {
        "id": "lvLzGCf0c3uv"
      },
      "source": [
        "## Animate the Result\n",
        "\n",
        "Here we quickly build a Drake diagram to animate the result we got from trajectory optimization: useful for debugging your code and to be sure that everything looks good."
      ]
    },
    {
      "cell_type": "code",
      "metadata": {
        "colab": {
          "base_uri": "https://localhost:8080/"
        },
        "id": "JVzWpY42TdQ7",
        "outputId": "3ddc11d7-b5d4-4c5d-c6f8-a846d31cbff8"
      },
      "source": [
        "def ballbot_floating_base_example(T, h_opt, x_opt):\n",
        "    # interpolate state values for animation\n",
        "    time_breaks_opt = np.array([sum(h_opt[:t]) for t in range(T+1)])\n",
        "    x_opt_poly = PiecewisePolynomial.FirstOrderHold(time_breaks_opt, x_opt.T)\n",
        "\n",
        "    # parse urdf with scene graph\n",
        "    plant = MultibodyPlant(time_step=0)\n",
        "    scene_graph = SceneGraph()\n",
        "    plant.RegisterAsSourceForSceneGraph(scene_graph)\n",
        "    Parser(plant).AddModelFromString(ballbot_floating_base_urdf, \"urdf\")\n",
        "    plant.Finalize()\n",
        "\n",
        "    # build block diagram and drive system state with\n",
        "    # the trajectory from the optimization problem\n",
        "    builder = DiagramBuilder()\n",
        "    source = builder.AddSystem(TrajectorySource(x_opt_poly))\n",
        "    builder.AddSystem(scene_graph)\n",
        "    pos_to_pose = builder.AddSystem(MultibodyPositionToGeometryPose(plant, input_multibody_state=True))\n",
        "    builder.Connect(source.get_output_port(0), pos_to_pose.get_input_port())\n",
        "    builder.Connect(pos_to_pose.get_output_port(), scene_graph.get_source_pose_port(plant.get_source_id()))\n",
        "\n",
        "    # add visualizer\n",
        "    xlim = [-.75, 1.]\n",
        "    ylim = [-.2, 1.5]\n",
        "    visualizer = builder.AddSystem(PlanarSceneGraphVisualizer(scene_graph, xlim=xlim, ylim=ylim, show=False))\n",
        "    builder.Connect(scene_graph.get_pose_bundle_output_port(), visualizer.get_input_port(0))\n",
        "    simulator = Simulator(builder.Build())\n",
        "\n",
        "    # generate and display animation\n",
        "    visualizer.start_recording()\n",
        "    simulator.AdvanceTo(x_opt_poly.end_time())\n",
        "    ani = visualizer.get_recording_as_animation()\n",
        "    HTML(ani.to_jshtml())\n",
        "\n",
        "ballbot_floating_base_example(T, h_opt, x_opt)"
      ],
      "execution_count": null,
      "outputs": [
        {
          "output_type": "stream",
          "text": [
            "Connecting to meshcat-server at zmq_url=tcp://127.0.0.1:6001...\n",
            "You can open the visualizer by visiting the following URL:\n",
            "http://033aa9a08377.ngrok.io/static/\n",
            "Connected to meshcat-server.\n"
          ],
          "name": "stdout"
        }
      ]
    }
  ]
}